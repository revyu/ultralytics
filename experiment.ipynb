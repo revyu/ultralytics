{
 "cells": [
  {
   "cell_type": "code",
   "execution_count": 1,
   "metadata": {},
   "outputs": [],
   "source": [
    "import numpy\n",
    "import torch\n",
    "\n",
    "import torch.nn as nn\n",
    "import torch.nn.functional as F"
   ]
  },
  {
   "cell_type": "code",
   "execution_count": null,
   "metadata": {},
   "outputs": [
    {
     "name": "stdout",
     "output_type": "stream",
     "text": [
      " RFA_Conv c1 64 , c2 3 , k 2\n",
      " RFA_Conv out torch.Size([16, 3, 33, 33])\n"
     ]
    },
    {
     "data": {
      "text/plain": [
       "torch.Size([16, 3, 33, 33])"
      ]
     },
     "execution_count": 2,
     "metadata": {},
     "output_type": "execute_result"
    }
   ],
   "source": [
    "from ultralytics.nn.modules import RFAConv\n",
    "\n",
    "img_batch=torch.rand((16,3,640,640)) #yolo11n  ресайзит в этот размер обычно \n",
    "\n",
    "layer=RFAConv(64,3,2,p=1)\n",
    "\n",
    "out=layer(img_batch)\n",
    "out.shape\n"
   ]
  },
  {
   "cell_type": "code",
   "execution_count": 3,
   "metadata": {},
   "outputs": [
    {
     "name": "stdout",
     "output_type": "stream",
     "text": [
      " CONV c1 64 , c2 3 , k 2\n",
      " Conv out torch.Size([16, 3, 33, 33])\n"
     ]
    },
    {
     "data": {
      "text/plain": [
       "torch.Size([16, 3, 33, 33])"
      ]
     },
     "execution_count": 3,
     "metadata": {},
     "output_type": "execute_result"
    }
   ],
   "source": [
    "from ultralytics.nn.modules import Conv\n",
    "img_batch=torch.rand((16,64,32,32))\n",
    "layer=Conv(64,3,2)\n",
    "out=layer(img_batch)\n",
    "out.shape"
   ]
  },
  {
   "cell_type": "code",
   "execution_count": 6,
   "metadata": {},
   "outputs": [
    {
     "name": "stdout",
     "output_type": "stream",
     "text": [
      "WARNING ⚠️ no model scale passed. Assuming scale='n'.\n"
     ]
    },
    {
     "name": "stdout",
     "output_type": "stream",
     "text": [
      " RFA_Conv c1 3 , c2 16 , k 1\n",
      " CONV c1 16 , c2 32 , k 3\n",
      " CONV c1 32 , c2 32 , k 1\n",
      " CONV c1 48 , c2 64 , k 1\n",
      " CONV c1 16 , c2 16 , k (3, 3)\n",
      " CONV c1 16 , c2 16 , k (3, 3)\n",
      " CONV c1 16 , c2 8 , k 3\n",
      " CONV c1 8 , c2 16 , k 3\n",
      " CONV c1 64 , c2 64 , k 3\n",
      " CONV c1 64 , c2 64 , k 1\n",
      " CONV c1 96 , c2 128 , k 1\n",
      " CONV c1 32 , c2 32 , k (3, 3)\n",
      " CONV c1 32 , c2 32 , k (3, 3)\n",
      " CONV c1 32 , c2 16 , k 3\n",
      " CONV c1 16 , c2 32 , k 3\n",
      " CONV c1 128 , c2 128 , k 3\n",
      " CONV c1 128 , c2 128 , k 1\n",
      " CONV c1 192 , c2 128 , k 1\n",
      " CONV c1 64 , c2 64 , k (3, 3)\n",
      " CONV c1 64 , c2 64 , k (3, 3)\n",
      " CONV c1 64 , c2 32 , k 1\n",
      " CONV c1 64 , c2 32 , k 1\n",
      " CONV c1 64 , c2 64 , k 1\n",
      " CONV c1 32 , c2 32 , k (1, 1)\n",
      " CONV c1 32 , c2 32 , k (3, 3)\n",
      " CONV c1 32 , c2 32 , k (1, 1)\n",
      " CONV c1 32 , c2 32 , k (3, 3)\n",
      " CONV c1 32 , c2 32 , k 3\n",
      " CONV c1 32 , c2 32 , k 3\n",
      " CONV c1 32 , c2 32 , k 3\n",
      " CONV c1 32 , c2 32 , k 3\n",
      " CONV c1 128 , c2 256 , k 3\n",
      " CONV c1 256 , c2 256 , k 1\n",
      " CONV c1 384 , c2 256 , k 1\n",
      " CONV c1 128 , c2 128 , k (3, 3)\n",
      " CONV c1 128 , c2 128 , k (3, 3)\n",
      " CONV c1 128 , c2 64 , k 1\n",
      " CONV c1 128 , c2 64 , k 1\n",
      " CONV c1 128 , c2 128 , k 1\n",
      " CONV c1 64 , c2 64 , k (1, 1)\n",
      " CONV c1 64 , c2 64 , k (3, 3)\n",
      " CONV c1 64 , c2 64 , k (1, 1)\n",
      " CONV c1 64 , c2 64 , k (3, 3)\n",
      " CONV c1 64 , c2 64 , k 3\n",
      " CONV c1 64 , c2 64 , k 3\n",
      " CONV c1 64 , c2 64 , k 3\n",
      " CONV c1 64 , c2 64 , k 3\n",
      " CONV c1 256 , c2 128 , k 1\n",
      " CONV c1 512 , c2 256 , k 1\n",
      " CONV c1 256 , c2 256 , k 1\n",
      " CONV c1 256 , c2 256 , k 1\n",
      " CONV c1 128 , c2 256 , k 1\n",
      " CONV c1 128 , c2 128 , k 1\n",
      " CONV c1 128 , c2 128 , k 3\n",
      " CONV c1 128 , c2 256 , k 1\n",
      " CONV c1 256 , c2 128 , k 1\n",
      " CONV c1 384 , c2 128 , k 1\n",
      " CONV c1 192 , c2 128 , k 1\n",
      " CONV c1 64 , c2 64 , k (3, 3)\n",
      " CONV c1 64 , c2 64 , k (3, 3)\n",
      " CONV c1 64 , c2 32 , k 3\n",
      " CONV c1 32 , c2 64 , k 3\n",
      " CONV c1 256 , c2 64 , k 1\n",
      " CONV c1 96 , c2 64 , k 1\n",
      " CONV c1 32 , c2 32 , k (3, 3)\n",
      " CONV c1 32 , c2 32 , k (3, 3)\n",
      " CONV c1 32 , c2 16 , k 3\n",
      " CONV c1 16 , c2 32 , k 3\n",
      " CONV c1 64 , c2 64 , k 3\n",
      " CONV c1 192 , c2 128 , k 1\n",
      " CONV c1 192 , c2 128 , k 1\n",
      " CONV c1 64 , c2 64 , k (3, 3)\n",
      " CONV c1 64 , c2 64 , k (3, 3)\n",
      " CONV c1 64 , c2 32 , k 3\n",
      " CONV c1 32 , c2 64 , k 3\n",
      " CONV c1 128 , c2 128 , k 3\n",
      " CONV c1 384 , c2 256 , k 1\n",
      " CONV c1 384 , c2 256 , k 1\n",
      " CONV c1 128 , c2 128 , k (3, 3)\n",
      " CONV c1 128 , c2 128 , k (3, 3)\n",
      " CONV c1 128 , c2 64 , k 1\n",
      " CONV c1 128 , c2 64 , k 1\n",
      " CONV c1 128 , c2 128 , k 1\n",
      " CONV c1 64 , c2 64 , k (1, 1)\n",
      " CONV c1 64 , c2 64 , k (3, 3)\n",
      " CONV c1 64 , c2 64 , k (1, 1)\n",
      " CONV c1 64 , c2 64 , k (3, 3)\n",
      " CONV c1 64 , c2 64 , k 3\n",
      " CONV c1 64 , c2 64 , k 3\n",
      " CONV c1 64 , c2 64 , k 3\n",
      " CONV c1 64 , c2 64 , k 3\n",
      " CONV c1 64 , c2 64 , k 3\n",
      " CONV c1 64 , c2 64 , k 3\n",
      " CONV c1 128 , c2 64 , k 3\n",
      " CONV c1 64 , c2 64 , k 3\n",
      " CONV c1 256 , c2 64 , k 3\n",
      " CONV c1 64 , c2 64 , k 3\n",
      " CONV c1 64 , c2 64 , k 3\n",
      " CONV c1 64 , c2 80 , k 1\n",
      " CONV c1 80 , c2 80 , k 3\n",
      " CONV c1 80 , c2 80 , k 1\n",
      " CONV c1 128 , c2 128 , k 3\n",
      " CONV c1 128 , c2 80 , k 1\n",
      " CONV c1 80 , c2 80 , k 3\n",
      " CONV c1 80 , c2 80 , k 1\n",
      " CONV c1 256 , c2 256 , k 3\n",
      " CONV c1 256 , c2 80 , k 1\n",
      " CONV c1 80 , c2 80 , k 3\n",
      " CONV c1 80 , c2 80 , k 1\n",
      " RFA_Conv out torch.Size([1, 16, 215, 215])\n",
      " Conv out torch.Size([1, 32, 108, 108])\n",
      " Conv out torch.Size([1, 32, 108, 108])\n",
      " Conv out torch.Size([1, 8, 108, 108])\n",
      " Conv out torch.Size([1, 16, 108, 108])\n",
      " Conv out torch.Size([1, 64, 108, 108])\n",
      " Conv out torch.Size([1, 64, 54, 54])\n",
      " Conv out torch.Size([1, 64, 54, 54])\n",
      " Conv out torch.Size([1, 16, 54, 54])\n",
      " Conv out torch.Size([1, 32, 54, 54])\n",
      " Conv out torch.Size([1, 128, 54, 54])\n",
      " Conv out torch.Size([1, 128, 27, 27])\n",
      " Conv out torch.Size([1, 128, 27, 27])\n",
      " Conv out torch.Size([1, 32, 27, 27])\n",
      " Conv out torch.Size([1, 32, 27, 27])\n",
      " Conv out torch.Size([1, 32, 27, 27])\n",
      " Conv out torch.Size([1, 32, 27, 27])\n",
      " Conv out torch.Size([1, 32, 27, 27])\n",
      " Conv out torch.Size([1, 32, 27, 27])\n",
      " Conv out torch.Size([1, 64, 27, 27])\n",
      " Conv out torch.Size([1, 128, 27, 27])\n",
      " Conv out torch.Size([1, 256, 14, 14])\n",
      " Conv out torch.Size([1, 256, 14, 14])\n",
      " Conv out torch.Size([1, 64, 14, 14])\n",
      " Conv out torch.Size([1, 64, 14, 14])\n",
      " Conv out torch.Size([1, 64, 14, 14])\n",
      " Conv out torch.Size([1, 64, 14, 14])\n",
      " Conv out torch.Size([1, 64, 14, 14])\n",
      " Conv out torch.Size([1, 64, 14, 14])\n",
      " Conv out torch.Size([1, 128, 14, 14])\n",
      " Conv out torch.Size([1, 256, 14, 14])\n",
      " Conv out torch.Size([1, 128, 14, 14])\n",
      " Conv out torch.Size([1, 256, 14, 14])\n",
      " Conv out torch.Size([1, 256, 14, 14])\n",
      " Conv out torch.Size([1, 256, 14, 14])\n",
      " Conv out torch.Size([1, 128, 14, 14])\n",
      " Conv out torch.Size([1, 128, 14, 14])\n",
      " Conv out torch.Size([1, 256, 14, 14])\n",
      " Conv out torch.Size([1, 128, 14, 14])\n",
      " Conv out torch.Size([1, 256, 14, 14])\n"
     ]
    },
    {
     "ename": "RuntimeError",
     "evalue": "Sizes of tensors must match except in dimension 1. Expected size 28 but got size 27 for tensor number 1 in the list.",
     "output_type": "error",
     "traceback": [
      "\u001b[31m---------------------------------------------------------------------------\u001b[39m",
      "\u001b[31mRuntimeError\u001b[39m                              Traceback (most recent call last)",
      "\u001b[36mCell\u001b[39m\u001b[36m \u001b[39m\u001b[32mIn[6]\u001b[39m\u001b[32m, line 4\u001b[39m\n\u001b[32m      1\u001b[39m \u001b[38;5;28;01mfrom\u001b[39;00m\u001b[38;5;250m \u001b[39m\u001b[34;01multralytics\u001b[39;00m\u001b[38;5;250m \u001b[39m\u001b[38;5;28;01mimport\u001b[39;00m YOLO\n\u001b[32m      3\u001b[39m \u001b[38;5;66;03m#model=YOLO(\"yolo11n\")\u001b[39;00m\n\u001b[32m----> \u001b[39m\u001b[32m4\u001b[39m model=\u001b[43mYOLO\u001b[49m\u001b[43m(\u001b[49m\u001b[33;43m\"\u001b[39;49m\u001b[33;43myolo11RFA_Conv.yaml\u001b[39;49m\u001b[33;43m\"\u001b[39;49m\u001b[43m)\u001b[49m\n",
      "\u001b[36mFile \u001b[39m\u001b[32m~/Desktop/work/butko/yolo/ultralytics/ultralytics/models/yolo/model.py:23\u001b[39m, in \u001b[36mYOLO.__init__\u001b[39m\u001b[34m(self, model, task, verbose)\u001b[39m\n\u001b[32m     20\u001b[39m     \u001b[38;5;28mself\u001b[39m.\u001b[34m__dict__\u001b[39m = new_instance.\u001b[34m__dict__\u001b[39m\n\u001b[32m     21\u001b[39m \u001b[38;5;28;01melse\u001b[39;00m:\n\u001b[32m     22\u001b[39m     \u001b[38;5;66;03m# Continue with default YOLO initialization\u001b[39;00m\n\u001b[32m---> \u001b[39m\u001b[32m23\u001b[39m     \u001b[38;5;28;43msuper\u001b[39;49m\u001b[43m(\u001b[49m\u001b[43m)\u001b[49m\u001b[43m.\u001b[49m\u001b[34;43m__init__\u001b[39;49m\u001b[43m(\u001b[49m\u001b[43mmodel\u001b[49m\u001b[43m=\u001b[49m\u001b[43mmodel\u001b[49m\u001b[43m,\u001b[49m\u001b[43m \u001b[49m\u001b[43mtask\u001b[49m\u001b[43m=\u001b[49m\u001b[43mtask\u001b[49m\u001b[43m,\u001b[49m\u001b[43m \u001b[49m\u001b[43mverbose\u001b[49m\u001b[43m=\u001b[49m\u001b[43mverbose\u001b[49m\u001b[43m)\u001b[49m\n",
      "\u001b[36mFile \u001b[39m\u001b[32m~/Desktop/work/butko/yolo/ultralytics/ultralytics/engine/model.py:146\u001b[39m, in \u001b[36mModel.__init__\u001b[39m\u001b[34m(self, model, task, verbose)\u001b[39m\n\u001b[32m    144\u001b[39m \u001b[38;5;28m__import__\u001b[39m(\u001b[33m\"\u001b[39m\u001b[33mos\u001b[39m\u001b[33m\"\u001b[39m).environ[\u001b[33m\"\u001b[39m\u001b[33mCUBLAS_WORKSPACE_CONFIG\u001b[39m\u001b[33m\"\u001b[39m] = \u001b[33m\"\u001b[39m\u001b[33m:4096:8\u001b[39m\u001b[33m\"\u001b[39m  \u001b[38;5;66;03m# to avoid deterministic warnings\u001b[39;00m\n\u001b[32m    145\u001b[39m \u001b[38;5;28;01mif\u001b[39;00m Path(model).suffix \u001b[38;5;129;01min\u001b[39;00m {\u001b[33m\"\u001b[39m\u001b[33m.yaml\u001b[39m\u001b[33m\"\u001b[39m, \u001b[33m\"\u001b[39m\u001b[33m.yml\u001b[39m\u001b[33m\"\u001b[39m}:\n\u001b[32m--> \u001b[39m\u001b[32m146\u001b[39m     \u001b[38;5;28;43mself\u001b[39;49m\u001b[43m.\u001b[49m\u001b[43m_new\u001b[49m\u001b[43m(\u001b[49m\u001b[43mmodel\u001b[49m\u001b[43m,\u001b[49m\u001b[43m \u001b[49m\u001b[43mtask\u001b[49m\u001b[43m=\u001b[49m\u001b[43mtask\u001b[49m\u001b[43m,\u001b[49m\u001b[43m \u001b[49m\u001b[43mverbose\u001b[49m\u001b[43m=\u001b[49m\u001b[43mverbose\u001b[49m\u001b[43m)\u001b[49m\n\u001b[32m    147\u001b[39m \u001b[38;5;28;01melse\u001b[39;00m:\n\u001b[32m    148\u001b[39m     \u001b[38;5;28mself\u001b[39m._load(model, task=task)\n",
      "\u001b[36mFile \u001b[39m\u001b[32m~/Desktop/work/butko/yolo/ultralytics/ultralytics/engine/model.py:257\u001b[39m, in \u001b[36mModel._new\u001b[39m\u001b[34m(self, cfg, task, model, verbose)\u001b[39m\n\u001b[32m    255\u001b[39m \u001b[38;5;28mself\u001b[39m.cfg = cfg\n\u001b[32m    256\u001b[39m \u001b[38;5;28mself\u001b[39m.task = task \u001b[38;5;129;01mor\u001b[39;00m guess_model_task(cfg_dict)\n\u001b[32m--> \u001b[39m\u001b[32m257\u001b[39m \u001b[38;5;28mself\u001b[39m.model = \u001b[43m(\u001b[49m\u001b[43mmodel\u001b[49m\u001b[43m \u001b[49m\u001b[38;5;129;43;01mor\u001b[39;49;00m\u001b[43m \u001b[49m\u001b[38;5;28;43mself\u001b[39;49m\u001b[43m.\u001b[49m\u001b[43m_smart_load\u001b[49m\u001b[43m(\u001b[49m\u001b[33;43m\"\u001b[39;49m\u001b[33;43mmodel\u001b[39;49m\u001b[33;43m\"\u001b[39;49m\u001b[43m)\u001b[49m\u001b[43m)\u001b[49m\u001b[43m(\u001b[49m\u001b[43mcfg_dict\u001b[49m\u001b[43m,\u001b[49m\u001b[43m \u001b[49m\u001b[43mverbose\u001b[49m\u001b[43m=\u001b[49m\u001b[43mverbose\u001b[49m\u001b[43m \u001b[49m\u001b[38;5;129;43;01mand\u001b[39;49;00m\u001b[43m \u001b[49m\u001b[43mRANK\u001b[49m\u001b[43m \u001b[49m\u001b[43m==\u001b[49m\u001b[43m \u001b[49m\u001b[43m-\u001b[49m\u001b[32;43m1\u001b[39;49m\u001b[43m)\u001b[49m  \u001b[38;5;66;03m# build model\u001b[39;00m\n\u001b[32m    258\u001b[39m \u001b[38;5;28mself\u001b[39m.overrides[\u001b[33m\"\u001b[39m\u001b[33mmodel\u001b[39m\u001b[33m\"\u001b[39m] = \u001b[38;5;28mself\u001b[39m.cfg\n\u001b[32m    259\u001b[39m \u001b[38;5;28mself\u001b[39m.overrides[\u001b[33m\"\u001b[39m\u001b[33mtask\u001b[39m\u001b[33m\"\u001b[39m] = \u001b[38;5;28mself\u001b[39m.task\n",
      "\u001b[36mFile \u001b[39m\u001b[32m~/Desktop/work/butko/yolo/ultralytics/ultralytics/nn/tasks.py:341\u001b[39m, in \u001b[36mDetectionModel.__init__\u001b[39m\u001b[34m(self, cfg, ch, nc, verbose)\u001b[39m\n\u001b[32m    338\u001b[39m         \u001b[38;5;28;01mreturn\u001b[39;00m \u001b[38;5;28mself\u001b[39m.forward(x)[\u001b[33m\"\u001b[39m\u001b[33mone2many\u001b[39m\u001b[33m\"\u001b[39m]\n\u001b[32m    339\u001b[39m     \u001b[38;5;28;01mreturn\u001b[39;00m \u001b[38;5;28mself\u001b[39m.forward(x)[\u001b[32m0\u001b[39m] \u001b[38;5;28;01mif\u001b[39;00m \u001b[38;5;28misinstance\u001b[39m(m, (Segment, Pose, OBB)) \u001b[38;5;28;01melse\u001b[39;00m \u001b[38;5;28mself\u001b[39m.forward(x)\n\u001b[32m--> \u001b[39m\u001b[32m341\u001b[39m m.stride = torch.tensor([s / x.shape[-\u001b[32m2\u001b[39m] \u001b[38;5;28;01mfor\u001b[39;00m x \u001b[38;5;129;01min\u001b[39;00m \u001b[43m_forward\u001b[49m\u001b[43m(\u001b[49m\u001b[43mtorch\u001b[49m\u001b[43m.\u001b[49m\u001b[43mzeros\u001b[49m\u001b[43m(\u001b[49m\u001b[32;43m1\u001b[39;49m\u001b[43m,\u001b[49m\u001b[43m \u001b[49m\u001b[43mch\u001b[49m\u001b[43m,\u001b[49m\u001b[43m \u001b[49m\u001b[43ms\u001b[49m\u001b[43m,\u001b[49m\u001b[43m \u001b[49m\u001b[43ms\u001b[49m\u001b[43m)\u001b[49m\u001b[43m)\u001b[49m])  \u001b[38;5;66;03m# forward\u001b[39;00m\n\u001b[32m    342\u001b[39m \u001b[38;5;28mself\u001b[39m.stride = m.stride\n\u001b[32m    343\u001b[39m m.bias_init()  \u001b[38;5;66;03m# only run once\u001b[39;00m\n",
      "\u001b[36mFile \u001b[39m\u001b[32m~/Desktop/work/butko/yolo/ultralytics/ultralytics/nn/tasks.py:339\u001b[39m, in \u001b[36mDetectionModel.__init__.<locals>._forward\u001b[39m\u001b[34m(x)\u001b[39m\n\u001b[32m    337\u001b[39m \u001b[38;5;28;01mif\u001b[39;00m \u001b[38;5;28mself\u001b[39m.end2end:\n\u001b[32m    338\u001b[39m     \u001b[38;5;28;01mreturn\u001b[39;00m \u001b[38;5;28mself\u001b[39m.forward(x)[\u001b[33m\"\u001b[39m\u001b[33mone2many\u001b[39m\u001b[33m\"\u001b[39m]\n\u001b[32m--> \u001b[39m\u001b[32m339\u001b[39m \u001b[38;5;28;01mreturn\u001b[39;00m \u001b[38;5;28mself\u001b[39m.forward(x)[\u001b[32m0\u001b[39m] \u001b[38;5;28;01mif\u001b[39;00m \u001b[38;5;28misinstance\u001b[39m(m, (Segment, Pose, OBB)) \u001b[38;5;28;01melse\u001b[39;00m \u001b[38;5;28;43mself\u001b[39;49m\u001b[43m.\u001b[49m\u001b[43mforward\u001b[49m\u001b[43m(\u001b[49m\u001b[43mx\u001b[49m\u001b[43m)\u001b[49m\n",
      "\u001b[36mFile \u001b[39m\u001b[32m~/Desktop/work/butko/yolo/ultralytics/ultralytics/nn/tasks.py:120\u001b[39m, in \u001b[36mBaseModel.forward\u001b[39m\u001b[34m(self, x, *args, **kwargs)\u001b[39m\n\u001b[32m    118\u001b[39m \u001b[38;5;28;01mif\u001b[39;00m \u001b[38;5;28misinstance\u001b[39m(x, \u001b[38;5;28mdict\u001b[39m):  \u001b[38;5;66;03m# for cases of training and validating while training.\u001b[39;00m\n\u001b[32m    119\u001b[39m     \u001b[38;5;28;01mreturn\u001b[39;00m \u001b[38;5;28mself\u001b[39m.loss(x, *args, **kwargs)\n\u001b[32m--> \u001b[39m\u001b[32m120\u001b[39m \u001b[38;5;28;01mreturn\u001b[39;00m \u001b[38;5;28;43mself\u001b[39;49m\u001b[43m.\u001b[49m\u001b[43mpredict\u001b[49m\u001b[43m(\u001b[49m\u001b[43mx\u001b[49m\u001b[43m,\u001b[49m\u001b[43m \u001b[49m\u001b[43m*\u001b[49m\u001b[43margs\u001b[49m\u001b[43m,\u001b[49m\u001b[43m \u001b[49m\u001b[43m*\u001b[49m\u001b[43m*\u001b[49m\u001b[43mkwargs\u001b[49m\u001b[43m)\u001b[49m\n",
      "\u001b[36mFile \u001b[39m\u001b[32m~/Desktop/work/butko/yolo/ultralytics/ultralytics/nn/tasks.py:138\u001b[39m, in \u001b[36mBaseModel.predict\u001b[39m\u001b[34m(self, x, profile, visualize, augment, embed)\u001b[39m\n\u001b[32m    136\u001b[39m \u001b[38;5;28;01mif\u001b[39;00m augment:\n\u001b[32m    137\u001b[39m     \u001b[38;5;28;01mreturn\u001b[39;00m \u001b[38;5;28mself\u001b[39m._predict_augment(x)\n\u001b[32m--> \u001b[39m\u001b[32m138\u001b[39m \u001b[38;5;28;01mreturn\u001b[39;00m \u001b[38;5;28;43mself\u001b[39;49m\u001b[43m.\u001b[49m\u001b[43m_predict_once\u001b[49m\u001b[43m(\u001b[49m\u001b[43mx\u001b[49m\u001b[43m,\u001b[49m\u001b[43m \u001b[49m\u001b[43mprofile\u001b[49m\u001b[43m,\u001b[49m\u001b[43m \u001b[49m\u001b[43mvisualize\u001b[49m\u001b[43m,\u001b[49m\u001b[43m \u001b[49m\u001b[43membed\u001b[49m\u001b[43m)\u001b[49m\n",
      "\u001b[36mFile \u001b[39m\u001b[32m~/Desktop/work/butko/yolo/ultralytics/ultralytics/nn/tasks.py:159\u001b[39m, in \u001b[36mBaseModel._predict_once\u001b[39m\u001b[34m(self, x, profile, visualize, embed)\u001b[39m\n\u001b[32m    157\u001b[39m \u001b[38;5;28;01mif\u001b[39;00m profile:\n\u001b[32m    158\u001b[39m     \u001b[38;5;28mself\u001b[39m._profile_one_layer(m, x, dt)\n\u001b[32m--> \u001b[39m\u001b[32m159\u001b[39m x = \u001b[43mm\u001b[49m\u001b[43m(\u001b[49m\u001b[43mx\u001b[49m\u001b[43m)\u001b[49m  \u001b[38;5;66;03m# run\u001b[39;00m\n\u001b[32m    160\u001b[39m y.append(x \u001b[38;5;28;01mif\u001b[39;00m m.i \u001b[38;5;129;01min\u001b[39;00m \u001b[38;5;28mself\u001b[39m.save \u001b[38;5;28;01melse\u001b[39;00m \u001b[38;5;28;01mNone\u001b[39;00m)  \u001b[38;5;66;03m# save output\u001b[39;00m\n\u001b[32m    161\u001b[39m \u001b[38;5;28;01mif\u001b[39;00m visualize:\n",
      "\u001b[36mFile \u001b[39m\u001b[32m~/.virtualenvs/ultralytics_local/lib/python3.12/site-packages/torch/nn/modules/module.py:1739\u001b[39m, in \u001b[36mModule._wrapped_call_impl\u001b[39m\u001b[34m(self, *args, **kwargs)\u001b[39m\n\u001b[32m   1737\u001b[39m     \u001b[38;5;28;01mreturn\u001b[39;00m \u001b[38;5;28mself\u001b[39m._compiled_call_impl(*args, **kwargs)  \u001b[38;5;66;03m# type: ignore[misc]\u001b[39;00m\n\u001b[32m   1738\u001b[39m \u001b[38;5;28;01melse\u001b[39;00m:\n\u001b[32m-> \u001b[39m\u001b[32m1739\u001b[39m     \u001b[38;5;28;01mreturn\u001b[39;00m \u001b[38;5;28;43mself\u001b[39;49m\u001b[43m.\u001b[49m\u001b[43m_call_impl\u001b[49m\u001b[43m(\u001b[49m\u001b[43m*\u001b[49m\u001b[43margs\u001b[49m\u001b[43m,\u001b[49m\u001b[43m \u001b[49m\u001b[43m*\u001b[49m\u001b[43m*\u001b[49m\u001b[43mkwargs\u001b[49m\u001b[43m)\u001b[49m\n",
      "\u001b[36mFile \u001b[39m\u001b[32m~/.virtualenvs/ultralytics_local/lib/python3.12/site-packages/torch/nn/modules/module.py:1750\u001b[39m, in \u001b[36mModule._call_impl\u001b[39m\u001b[34m(self, *args, **kwargs)\u001b[39m\n\u001b[32m   1745\u001b[39m \u001b[38;5;66;03m# If we don't have any hooks, we want to skip the rest of the logic in\u001b[39;00m\n\u001b[32m   1746\u001b[39m \u001b[38;5;66;03m# this function, and just call forward.\u001b[39;00m\n\u001b[32m   1747\u001b[39m \u001b[38;5;28;01mif\u001b[39;00m \u001b[38;5;129;01mnot\u001b[39;00m (\u001b[38;5;28mself\u001b[39m._backward_hooks \u001b[38;5;129;01mor\u001b[39;00m \u001b[38;5;28mself\u001b[39m._backward_pre_hooks \u001b[38;5;129;01mor\u001b[39;00m \u001b[38;5;28mself\u001b[39m._forward_hooks \u001b[38;5;129;01mor\u001b[39;00m \u001b[38;5;28mself\u001b[39m._forward_pre_hooks\n\u001b[32m   1748\u001b[39m         \u001b[38;5;129;01mor\u001b[39;00m _global_backward_pre_hooks \u001b[38;5;129;01mor\u001b[39;00m _global_backward_hooks\n\u001b[32m   1749\u001b[39m         \u001b[38;5;129;01mor\u001b[39;00m _global_forward_hooks \u001b[38;5;129;01mor\u001b[39;00m _global_forward_pre_hooks):\n\u001b[32m-> \u001b[39m\u001b[32m1750\u001b[39m     \u001b[38;5;28;01mreturn\u001b[39;00m \u001b[43mforward_call\u001b[49m\u001b[43m(\u001b[49m\u001b[43m*\u001b[49m\u001b[43margs\u001b[49m\u001b[43m,\u001b[49m\u001b[43m \u001b[49m\u001b[43m*\u001b[49m\u001b[43m*\u001b[49m\u001b[43mkwargs\u001b[49m\u001b[43m)\u001b[49m\n\u001b[32m   1752\u001b[39m result = \u001b[38;5;28;01mNone\u001b[39;00m\n\u001b[32m   1753\u001b[39m called_always_called_hooks = \u001b[38;5;28mset\u001b[39m()\n",
      "\u001b[36mFile \u001b[39m\u001b[32m~/Desktop/work/butko/yolo/ultralytics/ultralytics/nn/modules/conv.py:335\u001b[39m, in \u001b[36mConcat.forward\u001b[39m\u001b[34m(self, x)\u001b[39m\n\u001b[32m    333\u001b[39m \u001b[38;5;28;01mdef\u001b[39;00m\u001b[38;5;250m \u001b[39m\u001b[34mforward\u001b[39m(\u001b[38;5;28mself\u001b[39m, x):\n\u001b[32m    334\u001b[39m \u001b[38;5;250m    \u001b[39m\u001b[33;03m\"\"\"Forward pass for the YOLOv8 mask Proto module.\"\"\"\u001b[39;00m\n\u001b[32m--> \u001b[39m\u001b[32m335\u001b[39m     \u001b[38;5;28;01mreturn\u001b[39;00m \u001b[43mtorch\u001b[49m\u001b[43m.\u001b[49m\u001b[43mcat\u001b[49m\u001b[43m(\u001b[49m\u001b[43mx\u001b[49m\u001b[43m,\u001b[49m\u001b[43m \u001b[49m\u001b[38;5;28;43mself\u001b[39;49m\u001b[43m.\u001b[49m\u001b[43md\u001b[49m\u001b[43m)\u001b[49m\n",
      "\u001b[31mRuntimeError\u001b[39m: Sizes of tensors must match except in dimension 1. Expected size 28 but got size 27 for tensor number 1 in the list."
     ]
    }
   ],
   "source": [
    "from ultralytics import YOLO\n",
    "\n",
    "#model=YOLO(\"yolo11n\")\n",
    "model=YOLO(\"yolo11RFA_Conv.yaml\")"
   ]
  }
 ],
 "metadata": {
  "kernelspec": {
   "display_name": "ultralytics_local",
   "language": "python",
   "name": "python3"
  },
  "language_info": {
   "codemirror_mode": {
    "name": "ipython",
    "version": 3
   },
   "file_extension": ".py",
   "mimetype": "text/x-python",
   "name": "python",
   "nbconvert_exporter": "python",
   "pygments_lexer": "ipython3",
   "version": "3.12.3"
  }
 },
 "nbformat": 4,
 "nbformat_minor": 2
}
